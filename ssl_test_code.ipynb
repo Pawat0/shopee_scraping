{
  "nbformat": 4,
  "nbformat_minor": 0,
  "metadata": {
    "colab": {
      "provenance": []
    },
    "kernelspec": {
      "name": "python3",
      "display_name": "Python 3"
    },
    "language_info": {
      "name": "python"
    }
  },
  "cells": [
    {
      "cell_type": "markdown",
      "source": [
        "#import packages"
      ],
      "metadata": {
        "id": "2U9Q8YR_XPHi"
      }
    },
    {
      "cell_type": "code",
      "execution_count": null,
      "metadata": {
        "id": "yCreIf3yTtEC"
      },
      "outputs": [],
      "source": [
        "from selenium import webdriver\n",
        "import bs4\n",
        "import requests\n",
        "import pandas as pd\n",
        "import numpy as np\n",
        "import time"
      ]
    },
    {
      "cell_type": "markdown",
      "source": [
        "#Collect website link"
      ],
      "metadata": {
        "id": "W1cXbvaHU-zt"
      }
    },
    {
      "cell_type": "code",
      "source": [
        "#use selenium to open shopee's mom and kid category\n",
        "driver = webdriver.Chrome(executable_path = r'C:\\Users\\paint\\Desktop\\shopee\\chromedriver')\n",
        "driver.get('https://shopee.co.th/')\n",
        "time.sleep(5)\n",
        "\n",
        "thai_button = driver.find_element_by_xpath('/html/body/div[2]/div[1]/div[1]/div/div[3]/div[1]/button')\n",
        "thai_button.click()\n",
        "time.sleep(5)\n",
        "\n",
        "close_button = driver.execute_script('return document.querySelector(\"shopee-banner-popup-stateful\").shadowRoot.querySelector(\"div.shopee-popup__close-btn\")')\n",
        "close_button.click()\n",
        "time.sleep(5)\n",
        "\n",
        "mom_kid_button = driver.find_element_by_xpath('/html/body/div[1]/div/div[2]/div/div/div[3]/div[3]/div[1]/div/div/div[2]/div/div[1]/ul/li[9]/div/a[1]/div/div[2]/div')\n",
        "mom_kid_button.click()\n",
        "time.sleep(5)\n",
        "\n",
        "seeall_button = driver.find_element_by_xpath('/html/body/div[1]/div/div[2]/div/div/div[2]/div/div[1]/a[2]/div')\n",
        "seeall_button.click()\n",
        "time.sleep(5)"
      ],
      "metadata": {
        "id": "8o-VRtn9UDva"
      },
      "execution_count": null,
      "outputs": []
    },
    {
      "cell_type": "code",
      "source": [
        "#zoom out and scroll down to load all element\n",
        "driver.execute_script(\"document.body.style.zoom='10%'\")\n",
        "time.sleep(5)\n",
        "\n",
        "driver.execute_script(\"window.scrollTo(0, document.body.scrollHeight);\")\n",
        "time.sleep(10)\n",
        "\n",
        "#collect all shop link\n",
        "data = driver.page_source\n",
        "soup = bs4.BeautifulSoup(data)\n",
        "\n",
        "url_list = []\n",
        "for data in driver.find_elements_by_xpath('//a[@class=\"full-brand-list-item__brand-cover-image\"]'):\n",
        "    url_list.append(data.get_attribute('href'))"
      ],
      "metadata": {
        "id": "MiUg_eHrUTQT"
      },
      "execution_count": null,
      "outputs": []
    },
    {
      "cell_type": "markdown",
      "source": [
        "#Scraping data"
      ],
      "metadata": {
        "id": "cJxgsq-nVETV"
      }
    },
    {
      "cell_type": "code",
      "source": [
        "shopee_data = pd.DataFrame(columns=['name', 'price', 'quantity', 'shop'])"
      ],
      "metadata": {
        "id": "9GRfu1rEU9wB"
      },
      "execution_count": null,
      "outputs": []
    },
    {
      "cell_type": "code",
      "source": [
        "page = 0\n",
        "scrape_url = []\n",
        "while page < 10:\n",
        "    url_extended = url_list[0]+'?page=' + str(page) + '&sortBy=pop'\n",
        "    scrape_url.append(url_extended)\n",
        "    page += 1"
      ],
      "metadata": {
        "id": "8vw4xwnvVRHL"
      },
      "execution_count": null,
      "outputs": []
    },
    {
      "cell_type": "code",
      "source": [
        "count = 1\n",
        "for url in scrape_url:\n",
        "    products_list = []\n",
        "    prices_list = []\n",
        "    quantities_list = []\n",
        "\n",
        "    driver = webdriver.Chrome()\n",
        "    driver.get(url)\n",
        "\n",
        "    #add cookie\n",
        "    for i in cookies:\n",
        "        driver.add_cookie(i)\n",
        "    driver.refresh()\n",
        "    time.sleep(10)\n",
        "\n",
        "    driver.execute_script(\"document.body.style.zoom='10%'\")\n",
        "    time.sleep(5)\n",
        "\n",
        "    driver.execute_script(\"window.scrollTo(0, document.body.scrollHeight);\")\n",
        "    time.sleep(5)\n",
        "\n",
        "    data = driver.page_source\n",
        "    soup = bs4.BeautifulSoup(data)\n",
        "\n",
        "    a = soup.find_all('div', {'class', 'SiHtSX'})\n",
        "\n",
        "    for b in a:\n",
        "        if b.find('div', {'class': 'DI9B6s n9ce8z tHUXoY'}) is not None:\n",
        "            products_list.append(b.find('div', {'class': 'DI9B6s n9ce8z tHUXoY'}).text)\n",
        "        elif b.find('div', {'class': 'DI9B6s tHUXoY'}) is not None:\n",
        "            products_list.append(b.find('div', {'class': 'DI9B6s tHUXoY'}).text)\n",
        "        else:\n",
        "            products_list.append(None)\n",
        "\n",
        "        if b.find('div', {'class': '_5nsylV g5TpxV'}) is not None:\n",
        "            prices_list.append(b.find('div', {'class': '_5nsylV g5TpxV'}).text)\n",
        "        elif b.find('div', {'class': '_5nsylV o52c1W'}) is not None:\n",
        "            prices_list.append(b.find('div', {'class': '_5nsylV o52c1W'}).text)\n",
        "        elif b.find('div', {'class': '_5nsylV A15K0C'}) is not None:\n",
        "            prices_list.append(b.find('div', {'class': '_5nsylV A15K0C'}).text)\n",
        "        else:\n",
        "            prices_list.append(None)\n",
        "\n",
        "        if b.find('div', {'class': 'ktCe9A BlWcUe'}) is not None:\n",
        "            quantities_list.append(b.find('div', {'class': 'ktCe9A BlWcUe'}).text)\n",
        "        elif b.find('div', {'class': 'ktCe9A f3IWem'}) is not None:\n",
        "            quantities_list.append(b.find('div', {'class': 'ktCe9A f3IWem'}).text)\n",
        "        elif b.find('div', {'class': 'ktCe9A'}) is not None:\n",
        "            quantities_list.append(b.find('div', {'class': 'ktCe9A'}).text)\n",
        "        else:\n",
        "            quantities_list.append(None)\n",
        "\n",
        "    shop_data = pd.DataFrame([products_list, prices_list, quantities_list])\n",
        "    shop_data = shop_data.transpose()\n",
        "    shop_data.columns = ['name', 'price', 'quantity']\n",
        "    shop_data['shop'] = soup.find('h1', {'class': 'section-seller-overview-horizontal__portrait-name'}).text\n",
        "\n",
        "    shopee_data = pd.concat([shopee_data, shop_data])\n",
        "\n",
        "    print('complete: ', count)\n",
        "    count += 1\n",
        "    #time.sleep(10)\n",
        "\n",
        "print('complete all')"
      ],
      "metadata": {
        "id": "wISS7smqVYKA"
      },
      "execution_count": null,
      "outputs": []
    },
    {
      "cell_type": "markdown",
      "source": [
        "#Clean data"
      ],
      "metadata": {
        "id": "iMJ7Dg4AVvo_"
      }
    },
    {
      "cell_type": "code",
      "source": [
        "#remove duplicate rows\n",
        "shopee_data_nodupe = shopee_data.drop_duplicates()\n",
        "shopee_data_clean = shopee_data_nodupe"
      ],
      "metadata": {
        "id": "YkG5lUAwVyTf"
      },
      "execution_count": null,
      "outputs": []
    },
    {
      "cell_type": "code",
      "source": [
        "#clean data\n",
        "shopee_data_clean['price'] = shopee_data_clean['price'].str.replace('฿', '')\n",
        "shopee_data_clean['price'] = shopee_data_clean['price'].str.replace(',', '')\n",
        "\n",
        "shopee_data_clean['quantity'] = shopee_data_clean['quantity'].str.replace('ขายแล้ว', '')\n",
        "shopee_data_clean['quantity'] = shopee_data_clean['quantity'].str.replace('ชิ้น', '')\n",
        "shopee_data_clean['quantity'] = shopee_data_clean['quantity'].str.replace('.', '')\n",
        "shopee_data_clean['quantity'] = shopee_data_clean['quantity'].str.replace('พัน', '000')"
      ],
      "metadata": {
        "id": "sOp3JTKbWL5w"
      },
      "execution_count": null,
      "outputs": []
    },
    {
      "cell_type": "code",
      "source": [
        "#split price data\n",
        "shopee_data_clean[['min_price', 'max_price']] = shopee_data_clean['price'].str.split(pat='-', expand=True)\n",
        "\n",
        "#change column variable type to numeric\n",
        "shopee_data_clean['quantity'] = pd.to_numeric(shopee_data_clean['quantity'])\n",
        "shopee_data_clean['min_price'] = pd.to_numeric(shopee_data_clean['min_price'])\n",
        "shopee_data_clean['max_price'] = pd.to_numeric(shopee_data_clean['max_price'])\n",
        "\n",
        "#create avg_price column\n",
        "shopee_data_clean['avg_price'] = np.where(shopee_data_clean['max_price'].notnull(), (shopee_data_clean['min_price']+shopee_data_clean['max_price'])/2, shopee_data_clean['min_price'])"
      ],
      "metadata": {
        "id": "6qfH8sCeWkDz"
      },
      "execution_count": null,
      "outputs": []
    },
    {
      "cell_type": "code",
      "source": [
        "#reset index\n",
        "shopee_data_clean = shopee_data_clean.reset_index(drop = True)"
      ],
      "metadata": {
        "id": "ou6KJ6bpXF_W"
      },
      "execution_count": null,
      "outputs": []
    }
  ]
}